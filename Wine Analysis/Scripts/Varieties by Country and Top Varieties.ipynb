{
 "cells": [
  {
   "cell_type": "code",
   "execution_count": 1,
   "id": "fef66513",
   "metadata": {},
   "outputs": [],
   "source": [
    "# Import necessary libraries"
   ]
  },
  {
   "cell_type": "code",
   "execution_count": 2,
   "id": "8142209a",
   "metadata": {},
   "outputs": [],
   "source": [
    "import pandas as pd\n",
    "import numpy as np\n",
    "import os"
   ]
  },
  {
   "cell_type": "code",
   "execution_count": 3,
   "id": "80d7b927",
   "metadata": {},
   "outputs": [],
   "source": [
    "# Define path\n",
    "\n",
    "path = r'/Users/cassystunkel/Documents/Wine Analysis'"
   ]
  },
  {
   "cell_type": "code",
   "execution_count": 4,
   "id": "17fcf266",
   "metadata": {},
   "outputs": [],
   "source": [
    "df = pd.read_csv(os.path.join(path, 'Data Sets', 'Prepared Data', 'wine_data_no_outliers.csv'))"
   ]
  },
  {
   "cell_type": "code",
   "execution_count": 5,
   "id": "59c52963",
   "metadata": {},
   "outputs": [],
   "source": [
    "# Drop rows with missing values in the 'country' or 'variety' columns\n",
    "\n",
    "df_cleaned = df.dropna(subset=['country', 'variety'])"
   ]
  },
  {
   "cell_type": "code",
   "execution_count": 6,
   "id": "1c67eb1b",
   "metadata": {},
   "outputs": [],
   "source": [
    "# Group by 'country' and aggregate unique wine varieties\n",
    "\n",
    "country_varieties = df_cleaned.groupby('country')['variety'].unique()"
   ]
  },
  {
   "cell_type": "code",
   "execution_count": 7,
   "id": "c379f573",
   "metadata": {},
   "outputs": [
    {
     "name": "stdout",
     "output_type": "stream",
     "text": [
      "country\n",
      "Albania                                                           [Kallmet]\n",
      "Argentina                 [Malbec, Rosé, Bordeaux-style Red Blend, Caber...\n",
      "Australia                 [Pinot Noir, Shiraz, Chardonnay, Marsanne, Ros...\n",
      "Austria                   [St. Laurent, Blauburgunder, Blaufränkisch, Pi...\n",
      "Bosnia and Herzegovina                                    [Blatina, Vranec]\n",
      "Brazil                    [Merlot, Cabernet Sauvignon-Merlot, Red Blend,...\n",
      "Bulgaria                  [Mavrud, Chardonnay, Syrah, Pinot Noir, Red Bl...\n",
      "Canada                    [Bordeaux-style Red Blend, Riesling, Pinot Gri...\n",
      "Chile                     [Carmenère, Red Blend, Cabernet Sauvignon-Cabe...\n",
      "China                                             [Chardonnay, White Blend]\n",
      "Croatia                   [White Blend, Posip, Malvazija, Red Blend, Pla...\n",
      "Cyprus                    [Red Blend, Xinisteri, White Blend, Xynisteri,...\n",
      "Czech Republic            [Rivaner, Pinot Blanc, Cabernet Sauvignon, Grü...\n",
      "England                                       [Chardonnay, Sparkling Blend]\n",
      "France                    [Provence red blend, Sparkling Blend, Rhône-st...\n",
      "Georgia                   [Rkatsiteli, Mtsvane, Saperavi, Saperavi-Merlo...\n",
      "Germany                   [Riesling, Silvaner, Lemberger, Früburgunder, ...\n",
      "Greece                    [White Blend, Assyrtiko, Malagouzia, Agiorgiti...\n",
      "Hungary                   [Kekfrankos, Furmint, White Blend, Cabernet Fr...\n",
      "India                     [Shiraz, Sauvignon Blanc, Chenin Blanc, Cabern...\n",
      "Israel                    [Cabernet Sauvignon, Chardonnay, Red Blend, Ca...\n",
      "Italy                     [Sangiovese, Red Blend, Nebbiolo, Glera, White...\n",
      "Japan                                                               [Koshu]\n",
      "Lebanon                   [Red Blend, Syrah-Cabernet Sauvignon, White Bl...\n",
      "Lithuania                                                 [Sparkling Blend]\n",
      "Luxembourg                                           [Pinot Gris, Riesling]\n",
      "Macedonia                 [Vranec, Žilavka, Red Blend, Pinot Noir, Caber...\n",
      "Mexico                    [Cabernet Sauvignon, Chardonnay, Grenache, Neb...\n",
      "Moldova                   [White Blend, Bordeaux-style Red Blend, Red Bl...\n",
      "Montenegro                                                         [Vranec]\n",
      "Morocco                   [Syrah-Grenache, Syrah, Red Blend, Sauvignon B...\n",
      "New Zealand               [Chardonnay, Sauvignon Blanc, Riesling, Pinot ...\n",
      "Portugal                  [Portuguese Red, Baga, Touriga Nacional, Alvar...\n",
      "Romania                   [Rosé, Pinot Noir, Merlot, Cabernet Sauvignon,...\n",
      "Serbia                    [Morava, Riesling, Red Blend, Tamjanika, Proku...\n",
      "Slovakia                                                         [Riesling]\n",
      "Slovenia                  [Ribolla Gialla, Sauvignon Blanc, White Blend,...\n",
      "South Africa              [Sauvignon Blanc, Chardonnay, Chenin Blanc, Ch...\n",
      "South Korea                                                         [Meoru]\n",
      "Spain                     [Tinta de Toro, Mencía, Palomino, Tempranillo,...\n",
      "Switzerland                                [Chasselas, White Blend, Merlot]\n",
      "Turkey                    [Kalecik Karasi, Red Blend, Boğazkere, Narince...\n",
      "US                        [Pinot Noir, Rosé, Chardonnay, Syrah, Petite S...\n",
      "US-France                                                        [Viognier]\n",
      "Ukraine                                           [Sparkling Blend, Muscat]\n",
      "Uruguay                   [Red Blend, Albariño, Tannat, Cabernet Sauvign...\n",
      "Name: variety, dtype: object\n"
     ]
    }
   ],
   "source": [
    "print(country_varieties)"
   ]
  },
  {
   "cell_type": "code",
   "execution_count": 8,
   "id": "2f4a6743",
   "metadata": {},
   "outputs": [],
   "source": [
    "# Count the occurrences of each wine variety\n",
    "\n",
    "variety_counts = df_cleaned['variety'].value_counts()"
   ]
  },
  {
   "cell_type": "code",
   "execution_count": 9,
   "id": "00fa67e3",
   "metadata": {},
   "outputs": [
    {
     "name": "stdout",
     "output_type": "stream",
     "text": [
      "variety\n",
      "Chardonnay                  13169\n",
      "Pinot Noir                  12761\n",
      "Cabernet Sauvignon          11138\n",
      "Red Blend                    8782\n",
      "Sauvignon Blanc              6030\n",
      "Syrah                        5367\n",
      "Riesling                     5022\n",
      "Merlot                       4865\n",
      "Bordeaux-style Red Blend     3945\n",
      "Zinfandel                    3788\n",
      "Name: count, dtype: int64\n"
     ]
    }
   ],
   "source": [
    "# Display the top 10 most popular wine varieties\n",
    "\n",
    "top_varieties = variety_counts.head(10)\n",
    "print(top_varieties)"
   ]
  },
  {
   "cell_type": "code",
   "execution_count": 10,
   "id": "0453f8bb",
   "metadata": {},
   "outputs": [],
   "source": [
    "# Export datasets\n",
    "\n",
    "country_varieties.to_csv(os.path.join(path, 'Data Sets', 'Prepared Data', 'country_varieties.csv'))"
   ]
  },
  {
   "cell_type": "code",
   "execution_count": 11,
   "id": "1e5f9fbb",
   "metadata": {},
   "outputs": [],
   "source": [
    "variety_counts.to_csv(os.path.join(path, 'Data Sets', 'Prepared Data', 'variety_counts.csv'))"
   ]
  },
  {
   "cell_type": "code",
   "execution_count": null,
   "id": "f91fd508",
   "metadata": {},
   "outputs": [],
   "source": []
  }
 ],
 "metadata": {
  "kernelspec": {
   "display_name": "Python 3 (ipykernel)",
   "language": "python",
   "name": "python3"
  },
  "language_info": {
   "codemirror_mode": {
    "name": "ipython",
    "version": 3
   },
   "file_extension": ".py",
   "mimetype": "text/x-python",
   "name": "python",
   "nbconvert_exporter": "python",
   "pygments_lexer": "ipython3",
   "version": "3.11.5"
  }
 },
 "nbformat": 4,
 "nbformat_minor": 5
}
