{
 "cells": [
  {
   "cell_type": "markdown",
   "id": "692abdee",
   "metadata": {},
   "source": [
    "# Task 6.1 - Sourcing Open Data\n",
    "## Wine Reviews Analysis"
   ]
  },
  {
   "cell_type": "code",
   "execution_count": 1,
   "id": "7060536e",
   "metadata": {},
   "outputs": [],
   "source": [
    "# Import libraries"
   ]
  },
  {
   "cell_type": "code",
   "execution_count": 2,
   "id": "a23e0fb4",
   "metadata": {},
   "outputs": [],
   "source": [
    "import pandas as pd\n",
    "import numpy as np\n",
    "import os"
   ]
  },
  {
   "cell_type": "code",
   "execution_count": 3,
   "id": "9c12499e",
   "metadata": {},
   "outputs": [],
   "source": [
    "# Create path to 'Wine Analysis' folder"
   ]
  },
  {
   "cell_type": "code",
   "execution_count": 4,
   "id": "2899958b",
   "metadata": {},
   "outputs": [],
   "source": [
    "path = r'/Users/cassystunkel/Documents/Wine Analysis'"
   ]
  },
  {
   "cell_type": "code",
   "execution_count": 5,
   "id": "5937440d",
   "metadata": {},
   "outputs": [],
   "source": [
    "# Import dataset"
   ]
  },
  {
   "cell_type": "code",
   "execution_count": 6,
   "id": "d3fed6bd",
   "metadata": {},
   "outputs": [],
   "source": [
    "df = pd.read_csv(os.path.join(path, 'Data Sets', 'Raw Data', 'wine_data.csv'))"
   ]
  },
  {
   "cell_type": "code",
   "execution_count": 7,
   "id": "c75945e5",
   "metadata": {},
   "outputs": [],
   "source": [
    "# Check dataset information"
   ]
  },
  {
   "cell_type": "code",
   "execution_count": 8,
   "id": "a0a28819",
   "metadata": {},
   "outputs": [
    {
     "name": "stdout",
     "output_type": "stream",
     "text": [
      "<class 'pandas.core.frame.DataFrame'>\n",
      "RangeIndex: 150930 entries, 0 to 150929\n",
      "Data columns (total 11 columns):\n",
      " #   Column       Non-Null Count   Dtype  \n",
      "---  ------       --------------   -----  \n",
      " 0   Unnamed: 0   150930 non-null  int64  \n",
      " 1   country      150925 non-null  object \n",
      " 2   description  150930 non-null  object \n",
      " 3   designation  105195 non-null  object \n",
      " 4   points       150930 non-null  int64  \n",
      " 5   price        137235 non-null  float64\n",
      " 6   province     150925 non-null  object \n",
      " 7   region_1     125870 non-null  object \n",
      " 8   region_2     60953 non-null   object \n",
      " 9   variety      150930 non-null  object \n",
      " 10  winery       150930 non-null  object \n",
      "dtypes: float64(1), int64(2), object(8)\n",
      "memory usage: 12.7+ MB\n"
     ]
    }
   ],
   "source": [
    "df.info()"
   ]
  },
  {
   "cell_type": "code",
   "execution_count": 9,
   "id": "80ce45b4",
   "metadata": {},
   "outputs": [],
   "source": [
    "# Check for missing values"
   ]
  },
  {
   "cell_type": "code",
   "execution_count": 10,
   "id": "c50d1909",
   "metadata": {},
   "outputs": [
    {
     "data": {
      "text/plain": [
       "Unnamed: 0         0\n",
       "country            5\n",
       "description        0\n",
       "designation    45735\n",
       "points             0\n",
       "price          13695\n",
       "province           5\n",
       "region_1       25060\n",
       "region_2       89977\n",
       "variety            0\n",
       "winery             0\n",
       "dtype: int64"
      ]
     },
     "execution_count": 10,
     "metadata": {},
     "output_type": "execute_result"
    }
   ],
   "source": [
    "df.isnull().sum()"
   ]
  },
  {
   "cell_type": "code",
   "execution_count": 11,
   "id": "8e44abe6",
   "metadata": {},
   "outputs": [],
   "source": [
    "# Check for duplicates"
   ]
  },
  {
   "cell_type": "code",
   "execution_count": 12,
   "id": "f826de94",
   "metadata": {},
   "outputs": [],
   "source": [
    "df_dups = df[df.duplicated()]"
   ]
  },
  {
   "cell_type": "code",
   "execution_count": 13,
   "id": "df059422",
   "metadata": {},
   "outputs": [
    {
     "data": {
      "text/html": [
       "<div>\n",
       "<style scoped>\n",
       "    .dataframe tbody tr th:only-of-type {\n",
       "        vertical-align: middle;\n",
       "    }\n",
       "\n",
       "    .dataframe tbody tr th {\n",
       "        vertical-align: top;\n",
       "    }\n",
       "\n",
       "    .dataframe thead th {\n",
       "        text-align: right;\n",
       "    }\n",
       "</style>\n",
       "<table border=\"1\" class=\"dataframe\">\n",
       "  <thead>\n",
       "    <tr style=\"text-align: right;\">\n",
       "      <th></th>\n",
       "      <th>Unnamed: 0</th>\n",
       "      <th>country</th>\n",
       "      <th>description</th>\n",
       "      <th>designation</th>\n",
       "      <th>points</th>\n",
       "      <th>price</th>\n",
       "      <th>province</th>\n",
       "      <th>region_1</th>\n",
       "      <th>region_2</th>\n",
       "      <th>variety</th>\n",
       "      <th>winery</th>\n",
       "    </tr>\n",
       "  </thead>\n",
       "  <tbody>\n",
       "  </tbody>\n",
       "</table>\n",
       "</div>"
      ],
      "text/plain": [
       "Empty DataFrame\n",
       "Columns: [Unnamed: 0, country, description, designation, points, price, province, region_1, region_2, variety, winery]\n",
       "Index: []"
      ]
     },
     "execution_count": 13,
     "metadata": {},
     "output_type": "execute_result"
    }
   ],
   "source": [
    "df_dups"
   ]
  },
  {
   "cell_type": "code",
   "execution_count": 14,
   "id": "4481f373",
   "metadata": {},
   "outputs": [],
   "source": [
    "# Check column types"
   ]
  },
  {
   "cell_type": "code",
   "execution_count": 15,
   "id": "6f4a0667",
   "metadata": {},
   "outputs": [
    {
     "data": {
      "text/plain": [
       "Unnamed: 0       int64\n",
       "country         object\n",
       "description     object\n",
       "designation     object\n",
       "points           int64\n",
       "price          float64\n",
       "province        object\n",
       "region_1        object\n",
       "region_2        object\n",
       "variety         object\n",
       "winery          object\n",
       "dtype: object"
      ]
     },
     "execution_count": 15,
     "metadata": {},
     "output_type": "execute_result"
    }
   ],
   "source": [
    "df.dtypes"
   ]
  },
  {
   "cell_type": "code",
   "execution_count": 16,
   "id": "d1719da6",
   "metadata": {},
   "outputs": [],
   "source": [
    "# Drop unneeded columns from dataset"
   ]
  },
  {
   "cell_type": "code",
   "execution_count": 17,
   "id": "780a7572",
   "metadata": {},
   "outputs": [],
   "source": [
    "df = df.drop(columns = ['description', 'designation', 'region_1', 'region_2', 'winery', 'Unnamed: 0'])"
   ]
  },
  {
   "cell_type": "code",
   "execution_count": 18,
   "id": "dba7b259",
   "metadata": {},
   "outputs": [],
   "source": [
    "# Check headers"
   ]
  },
  {
   "cell_type": "code",
   "execution_count": 19,
   "id": "6f6c2308",
   "metadata": {},
   "outputs": [
    {
     "data": {
      "text/html": [
       "<div>\n",
       "<style scoped>\n",
       "    .dataframe tbody tr th:only-of-type {\n",
       "        vertical-align: middle;\n",
       "    }\n",
       "\n",
       "    .dataframe tbody tr th {\n",
       "        vertical-align: top;\n",
       "    }\n",
       "\n",
       "    .dataframe thead th {\n",
       "        text-align: right;\n",
       "    }\n",
       "</style>\n",
       "<table border=\"1\" class=\"dataframe\">\n",
       "  <thead>\n",
       "    <tr style=\"text-align: right;\">\n",
       "      <th></th>\n",
       "      <th>country</th>\n",
       "      <th>points</th>\n",
       "      <th>price</th>\n",
       "      <th>province</th>\n",
       "      <th>variety</th>\n",
       "    </tr>\n",
       "  </thead>\n",
       "  <tbody>\n",
       "    <tr>\n",
       "      <th>0</th>\n",
       "      <td>US</td>\n",
       "      <td>96</td>\n",
       "      <td>235.0</td>\n",
       "      <td>California</td>\n",
       "      <td>Cabernet Sauvignon</td>\n",
       "    </tr>\n",
       "    <tr>\n",
       "      <th>1</th>\n",
       "      <td>Spain</td>\n",
       "      <td>96</td>\n",
       "      <td>110.0</td>\n",
       "      <td>Northern Spain</td>\n",
       "      <td>Tinta de Toro</td>\n",
       "    </tr>\n",
       "    <tr>\n",
       "      <th>2</th>\n",
       "      <td>US</td>\n",
       "      <td>96</td>\n",
       "      <td>90.0</td>\n",
       "      <td>California</td>\n",
       "      <td>Sauvignon Blanc</td>\n",
       "    </tr>\n",
       "    <tr>\n",
       "      <th>3</th>\n",
       "      <td>US</td>\n",
       "      <td>96</td>\n",
       "      <td>65.0</td>\n",
       "      <td>Oregon</td>\n",
       "      <td>Pinot Noir</td>\n",
       "    </tr>\n",
       "    <tr>\n",
       "      <th>4</th>\n",
       "      <td>France</td>\n",
       "      <td>95</td>\n",
       "      <td>66.0</td>\n",
       "      <td>Provence</td>\n",
       "      <td>Provence red blend</td>\n",
       "    </tr>\n",
       "  </tbody>\n",
       "</table>\n",
       "</div>"
      ],
      "text/plain": [
       "  country  points  price        province             variety\n",
       "0      US      96  235.0      California  Cabernet Sauvignon\n",
       "1   Spain      96  110.0  Northern Spain       Tinta de Toro\n",
       "2      US      96   90.0      California     Sauvignon Blanc\n",
       "3      US      96   65.0          Oregon          Pinot Noir\n",
       "4  France      95   66.0        Provence  Provence red blend"
      ]
     },
     "execution_count": 19,
     "metadata": {},
     "output_type": "execute_result"
    }
   ],
   "source": [
    "df.head()"
   ]
  },
  {
   "cell_type": "code",
   "execution_count": 20,
   "id": "6c3ed9d1",
   "metadata": {},
   "outputs": [],
   "source": [
    "# Change 'points' column data type from integer to string"
   ]
  },
  {
   "cell_type": "code",
   "execution_count": 21,
   "id": "0b60038d",
   "metadata": {},
   "outputs": [],
   "source": [
    "df['points'] = df['points'].astype('str')"
   ]
  },
  {
   "cell_type": "code",
   "execution_count": 22,
   "id": "43ac01a3",
   "metadata": {},
   "outputs": [],
   "source": [
    "# Re-check data types"
   ]
  },
  {
   "cell_type": "code",
   "execution_count": 23,
   "id": "9aae112c",
   "metadata": {},
   "outputs": [
    {
     "data": {
      "text/plain": [
       "country      object\n",
       "points       object\n",
       "price       float64\n",
       "province     object\n",
       "variety      object\n",
       "dtype: object"
      ]
     },
     "execution_count": 23,
     "metadata": {},
     "output_type": "execute_result"
    }
   ],
   "source": [
    "df.dtypes"
   ]
  },
  {
   "cell_type": "code",
   "execution_count": 28,
   "id": "87443222",
   "metadata": {},
   "outputs": [],
   "source": [
    "# Drop missing values present in 'country' and 'province' columns"
   ]
  },
  {
   "cell_type": "code",
   "execution_count": 25,
   "id": "bff3b750",
   "metadata": {},
   "outputs": [],
   "source": [
    "df_1 = df[df['country'].isnull() == False]"
   ]
  },
  {
   "cell_type": "code",
   "execution_count": 26,
   "id": "4e14cf6a",
   "metadata": {},
   "outputs": [],
   "source": [
    "# Check for missing values"
   ]
  },
  {
   "cell_type": "code",
   "execution_count": 27,
   "id": "273a6955",
   "metadata": {},
   "outputs": [
    {
     "data": {
      "text/plain": [
       "country         0\n",
       "points          0\n",
       "price       13695\n",
       "province        0\n",
       "variety         0\n",
       "dtype: int64"
      ]
     },
     "execution_count": 27,
     "metadata": {},
     "output_type": "execute_result"
    }
   ],
   "source": [
    "df_1.isnull().sum()"
   ]
  },
  {
   "cell_type": "code",
   "execution_count": 29,
   "id": "2a3507b6",
   "metadata": {},
   "outputs": [],
   "source": [
    "# Creating new column 'price_missing' to flag the missing values in the 'price' column"
   ]
  },
  {
   "cell_type": "code",
   "execution_count": 31,
   "id": "5a976f98",
   "metadata": {},
   "outputs": [
    {
     "name": "stderr",
     "output_type": "stream",
     "text": [
      "/var/folders/qs/9lwsjk_n1zl8hh4scgkrzq6h0000gn/T/ipykernel_92347/274790268.py:1: SettingWithCopyWarning: \n",
      "A value is trying to be set on a copy of a slice from a DataFrame.\n",
      "Try using .loc[row_indexer,col_indexer] = value instead\n",
      "\n",
      "See the caveats in the documentation: https://pandas.pydata.org/pandas-docs/stable/user_guide/indexing.html#returning-a-view-versus-a-copy\n",
      "  df_1['price_missing'] = False\n"
     ]
    }
   ],
   "source": [
    "df_1['price_missing'] = False"
   ]
  },
  {
   "cell_type": "code",
   "execution_count": 34,
   "id": "984abfc6",
   "metadata": {},
   "outputs": [],
   "source": [
    "# Locate rows where the 'price' column has missing values and set 'price_missing' to True for those rows"
   ]
  },
  {
   "cell_type": "code",
   "execution_count": 32,
   "id": "a86572a8",
   "metadata": {},
   "outputs": [],
   "source": [
    "df_1.loc[df_1['price'].isnull(), 'price_missing'] = True"
   ]
  },
  {
   "cell_type": "code",
   "execution_count": 35,
   "id": "a377948e",
   "metadata": {},
   "outputs": [],
   "source": [
    "# Display the dataframe with the new 'price_missing' column"
   ]
  },
  {
   "cell_type": "code",
   "execution_count": 33,
   "id": "e9bc347d",
   "metadata": {},
   "outputs": [
    {
     "name": "stdout",
     "output_type": "stream",
     "text": [
      "       country points  price            province             variety  \\\n",
      "0           US     96  235.0          California  Cabernet Sauvignon   \n",
      "1        Spain     96  110.0      Northern Spain       Tinta de Toro   \n",
      "2           US     96   90.0          California     Sauvignon Blanc   \n",
      "3           US     96   65.0              Oregon          Pinot Noir   \n",
      "4       France     95   66.0            Provence  Provence red blend   \n",
      "...        ...    ...    ...                 ...                 ...   \n",
      "150925   Italy     91   20.0      Southern Italy         White Blend   \n",
      "150926  France     91   27.0           Champagne     Champagne Blend   \n",
      "150927   Italy     91   20.0      Southern Italy         White Blend   \n",
      "150928  France     90   52.0           Champagne     Champagne Blend   \n",
      "150929   Italy     90   15.0  Northeastern Italy        Pinot Grigio   \n",
      "\n",
      "        price_missing  \n",
      "0               False  \n",
      "1               False  \n",
      "2               False  \n",
      "3               False  \n",
      "4               False  \n",
      "...               ...  \n",
      "150925          False  \n",
      "150926          False  \n",
      "150927          False  \n",
      "150928          False  \n",
      "150929          False  \n",
      "\n",
      "[150925 rows x 6 columns]\n"
     ]
    }
   ],
   "source": [
    "print(df_1)"
   ]
  },
  {
   "cell_type": "code",
   "execution_count": 38,
   "id": "05fd2bfa",
   "metadata": {},
   "outputs": [],
   "source": [
    "# Export cleaned and wrangled dataset"
   ]
  },
  {
   "cell_type": "code",
   "execution_count": 39,
   "id": "72cfa562",
   "metadata": {},
   "outputs": [],
   "source": [
    "df_1.to_csv(os.path.join(path, 'Data Sets', 'Prepared Data', 'wine_data_clean.csv'))"
   ]
  },
  {
   "cell_type": "code",
   "execution_count": null,
   "id": "81d19d7d",
   "metadata": {},
   "outputs": [],
   "source": []
  }
 ],
 "metadata": {
  "kernelspec": {
   "display_name": "Python 3 (ipykernel)",
   "language": "python",
   "name": "python3"
  },
  "language_info": {
   "codemirror_mode": {
    "name": "ipython",
    "version": 3
   },
   "file_extension": ".py",
   "mimetype": "text/x-python",
   "name": "python",
   "nbconvert_exporter": "python",
   "pygments_lexer": "ipython3",
   "version": "3.11.5"
  }
 },
 "nbformat": 4,
 "nbformat_minor": 5
}
